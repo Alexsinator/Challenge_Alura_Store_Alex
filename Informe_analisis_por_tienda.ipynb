{
  "nbformat": 4,
  "nbformat_minor": 0,
  "metadata": {
    "colab": {
      "provenance": [],
      "authorship_tag": "ABX9TyPXogiP8Mfy/YO8aSl7udD1",
      "include_colab_link": true
    },
    "kernelspec": {
      "name": "python3",
      "display_name": "Python 3"
    },
    "language_info": {
      "name": "python"
    }
  },
  "cells": [
    {
      "cell_type": "markdown",
      "metadata": {
        "id": "view-in-github",
        "colab_type": "text"
      },
      "source": [
        "<a href=\"https://colab.research.google.com/github/Alexsinator/Challenge_Alura_Store_Alex/blob/main/Informe_analisis_por_tienda.ipynb\" target=\"_parent\"><img src=\"https://colab.research.google.com/assets/colab-badge.svg\" alt=\"Open In Colab\"/></a>"
      ]
    },
    {
      "cell_type": "markdown",
      "source": [
        "                            México, Ciudad de México a 21 de Abril de 2025\n",
        "###**INFORME DE ANALISIS COMPARATIVO POR TIENDA**\n",
        "\n",
        "#**Sr. Juan**\n",
        "Directivo\n",
        "\n",
        "En atención a la solicitud realizada al equipo, nos complace presentarle el siguiente análisis, con el objetivo de aportar información clave que facilite la toma de desiciones estratégicas.\n",
        "\n",
        "Guiados por la información obtenida de la base de datos, y detallada a partir de la siguiente página, observamos que los datos presentan una tendencia similar en todas las tiendas. Sin embargo, con el propósito de obtener una visión más profunda y fundamentar la toma de decisiones, se han incorporado gráficos interactivos y análisis comparativos que permiten evaluar distintos aspectos clave, como el rendimiento de ventas, la calificación de la tienda y costos de envio, entre otros.\n",
        "\n",
        "Principales hallazgos de los análisis:\n",
        "*   Si se prioriza el **ingreso por facturación**, se debería considerar el **cierre de la Tienda 4**, mientras que en la **Tienda 1** sería importante mejorar la experiencia del cliente.\n",
        "*   Si se prioriza la **experiencia del cliente**, se debería considerar el **cierre de la Tienda 1**, y buscar estrategías para **incrementar las ventas en la Tienda 4.**\n",
        "\n",
        "Los gráficos anexos ilustran estas tendencias, mostrando la relación entre facturación, satisfacción y desempeño por tienda, permitiendo una comparación más visual de los factores clave.\n",
        "\n",
        "Recomendación:\n",
        "\n",
        "Nuestra sugerencia es proceder con el **cierre de la tienda 4**, priorizando el criterio de facturación. No obstante, se propone **aprovechar el personal de dicha tienda** para fortalecer y capacitar al equipo de la Tienda 1, con el fin de mejorar la experiencia del cliente.\n",
        "\n",
        "**Nota adicional:**\n",
        "Esta desición se plantea como una medida estratégica, orientada a la optimización de recursos y mejora del rendimiento general. Con la adecuada implementación, es posible lograr una pronta recuperación. Y en ese caso, no se descarta la posibilidad de **volver a invertir en una nueva tienda**, teniendo mejores condiciones y con aprendizajes adquiridos.\n",
        "\n",
        "Agradecemos su atención y quedamos atentos para ampliar esta información o resolver cualquier inquietud adicional.\n",
        "\n",
        "                    Atentamente\n",
        "               Equipo de Data Science\n",
        "\n",
        "                  Alejandro Alanis\n",
        "        Jefe de departamento de Data Science"
      ],
      "metadata": {
        "id": "ApRSZ9CFUaPu"
      }
    },
    {
      "cell_type": "markdown",
      "source": [
        "                            México, Ciduad de México a 21 de Abril de 2025\n",
        "###***INFORMACIÓN DETALLADA DE:***\n",
        "###**INFORME DE ANALISIS COMPARATIVO POR TIENDA**\n",
        "\n",
        "Los ingresos totales de las tiendas.\n",
        "\n",
        "*   Tienda 1:   1,150,880,400.0       MAYOR FACTURACION\n",
        "*   Tienda 2:   1,116,343,500.0\n",
        "*   Tienda 3:   1,098,019,600.0\n",
        "*   Tienda 4:   1,038,375,700.0       MENOR FACTURACION\n",
        "\n",
        "\n",
        "Las categorías de productos más y menos vendidas.\n",
        "\n",
        "* La categoria mas vendida es: MUEBLES\n",
        "* La categoria menos vendida es: ARTICULOS PARA EL HOGAR\n",
        "\n",
        "Las calificaciones promedio de los clientes por tienda.\n",
        "\n",
        "*   Tienda 1:   3.98       PEOR CALIFICACION\n",
        "*   Tienda 2:   4.04\n",
        "*   Tienda 3:   4.05       MEJOR CALIFICACION\n",
        "*   Tienda 4:   4.00\n",
        "\n",
        "Los productos más y menos vendidos.\n",
        "\n",
        "*   Tienda 1:\n",
        "El producto mas vendido es: \tMuebles.\n",
        "con una cantidad de: \t\t465 productos vendidos.\n",
        "El producto menos vendido es: \tArtículos para el hogar.\n",
        "con una cantidad de: \t\t171 productos vendidos\n",
        "*   Tienda 2:   \n",
        "El producto mas vendido es: \tMuebles.\n",
        "con una cantidad de: \t\t442 productos vendidos.\n",
        "El producto menos vendido es: \tArtículos para el hogar.\n",
        "con una cantidad de: \t\t181 productos vendidos\n",
        "*   Tienda 3:  \n",
        "El producto mas vendido es: \tMuebles.\n",
        "con una cantidad de: \t\t499 productos vendidos.\n",
        "El producto menos vendido es: \tInstrumentos musicales.\n",
        "con una cantidad de: \t\t177 productos vendidos\n",
        "*   Tienda 4:\n",
        "El producto mas vendido es: \tMuebles.\n",
        "con una cantidad de: \t\t480 productos vendidos.\n",
        "El producto menos vendido es: \tInstrumentos musicales.\n",
        "con una cantidad de: \t\t170 productos vendidos\n",
        "\n",
        "El coste de envío promedio para cada tienda.\n",
        "\n",
        "*   Tienda 1:   28547.86       MAYOR COSTO DE ENVIO\n",
        "*   Tienda 2:   27731.98\n",
        "*   Tienda 3:   27204.37\n",
        "*   Tienda 4:   25586.22       MENOR COSTO DE ENVIO\n",
        "\n",
        "Margen de Ganancia (Facturacion total VS Costos de envio):\n",
        "\n",
        "*   Tienda 1:   1,089,502,500.0      MAYOR MARGEN\n",
        "*   Tienda 2:   1,056,858,400.0\n",
        "*   Tienda 3:   1,039,503,000.0\n",
        "*   Tienda 4:   983,058,300.0        MENOR MARGEN"
      ],
      "metadata": {
        "id": "PvZYi4MUUd-f"
      }
    },
    {
      "cell_type": "markdown",
      "source": [],
      "metadata": {
        "id": "tWY57PILUy9N"
      }
    },
    {
      "cell_type": "code",
      "execution_count": null,
      "metadata": {
        "id": "aHnToSSXUX2a"
      },
      "outputs": [],
      "source": []
    }
  ]
}